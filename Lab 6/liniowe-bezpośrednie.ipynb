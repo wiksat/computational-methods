{
 "cells": [
  {
   "cell_type": "code",
   "execution_count": 1,
   "metadata": {
    "collapsed": true,
    "ExecuteTime": {
     "end_time": "2023-06-02T11:47:14.535023Z",
     "start_time": "2023-06-02T11:47:13.601414200Z"
    }
   },
   "outputs": [],
   "source": [
    "import numpy as np\n",
    "import pandas as pd\n",
    "import matplotlib.pyplot as plt"
   ]
  },
  {
   "cell_type": "code",
   "execution_count": 2,
   "metadata": {
    "ExecuteTime": {
     "end_time": "2023-06-02T11:47:14.540090500Z",
     "start_time": "2023-06-02T11:47:14.537535600Z"
    }
   },
   "outputs": [],
   "source": [
    "def gaussian_elimination(A, B):\n",
    "    n = np.shape(A)[0]\n",
    "    C = np.hstack([A, B.reshape((n, 1))]).astype(np.float64)\n",
    "\n",
    "    for i in range(n):\n",
    "        for j in range(i + 1, n):\n",
    "            ratio = C[j][i] / C[i][i]\n",
    "            C[j] = C[j] - ratio * C[i]\n",
    "\n",
    "    X = C[:, n]\n",
    "    X[n - 1] /= C[n - 1][n - 1]\n",
    "    for i in range(n - 2, -1, -1):\n",
    "        X[i] -= np.sum(C[i][i + 1:n] * X[i + 1:n])\n",
    "        X[i] /= C[i][i]\n",
    "    return X"
   ]
  },
  {
   "cell_type": "code",
   "execution_count": 3,
   "metadata": {
    "ExecuteTime": {
     "end_time": "2023-06-02T11:47:14.545991600Z",
     "start_time": "2023-06-02T11:47:14.542090100Z"
    }
   },
   "outputs": [],
   "source": [
    "def exercise_1(numbers):\n",
    "    result = []\n",
    "    for n in numbers:\n",
    "        for float_type in [np.float32, np.float64]:\n",
    "            A = np.array([[1 / (i + j - 1) if i != 1 else 1 for j in range(1, n + 1)] for i in range(1, n + 1)]).astype(float_type)\n",
    "            X_vec = np.array([1 if i % 2 == 0 else -1 for i in range(n)]).astype(float_type)\n",
    "            B = A @ X_vec\n",
    "            X = gaussian_elimination(A, B)\n",
    "            norm = np.linalg.norm(X_vec - X)\n",
    "            result += [norm]\n",
    "    df = pd.DataFrame(data={\"n\": numbers,\n",
    "                            \"float32\": result[::2],\n",
    "                            \"float64\": result[1::2]})\n",
    "    return df"
   ]
  },
  {
   "cell_type": "code",
   "execution_count": 4,
   "metadata": {
    "ExecuteTime": {
     "end_time": "2023-06-02T11:47:14.577633700Z",
     "start_time": "2023-06-02T11:47:14.545991600Z"
    }
   },
   "outputs": [
    {
     "data": {
      "text/plain": "     n       float32       float64\n0    3  3.345309e-06  0.000000e+00\n1    4  6.646519e-15  3.018715e-13\n2    5  3.369467e-04  9.229383e-12\n3    6  5.440998e-11  3.637978e-10\n4    7  2.219171e+00  1.360925e-08\n5    8  1.972211e+01  1.203346e-07\n6    9  4.947851e+01  5.400507e-07\n7   10  1.815739e+01  1.662034e-04\n8   11  1.377948e+01  1.223408e-02\n9   12  4.692580e+00  1.213976e+00\n10  13  8.386541e+00  2.121511e+01\n11  14  5.707215e+00  2.111560e+01\n12  15  1.353520e+01  1.504852e+01\n13  16  4.893529e+01  2.594319e+01\n14  17  8.208219e+01  2.298492e+01\n15  18  7.338206e+01  2.219902e+01\n16  19  9.488977e+01  8.536603e+01\n17  20  2.652555e+02  8.714011e+02",
      "text/html": "<div>\n<style scoped>\n    .dataframe tbody tr th:only-of-type {\n        vertical-align: middle;\n    }\n\n    .dataframe tbody tr th {\n        vertical-align: top;\n    }\n\n    .dataframe thead th {\n        text-align: right;\n    }\n</style>\n<table border=\"1\" class=\"dataframe\">\n  <thead>\n    <tr style=\"text-align: right;\">\n      <th></th>\n      <th>n</th>\n      <th>float32</th>\n      <th>float64</th>\n    </tr>\n  </thead>\n  <tbody>\n    <tr>\n      <th>0</th>\n      <td>3</td>\n      <td>3.345309e-06</td>\n      <td>0.000000e+00</td>\n    </tr>\n    <tr>\n      <th>1</th>\n      <td>4</td>\n      <td>6.646519e-15</td>\n      <td>3.018715e-13</td>\n    </tr>\n    <tr>\n      <th>2</th>\n      <td>5</td>\n      <td>3.369467e-04</td>\n      <td>9.229383e-12</td>\n    </tr>\n    <tr>\n      <th>3</th>\n      <td>6</td>\n      <td>5.440998e-11</td>\n      <td>3.637978e-10</td>\n    </tr>\n    <tr>\n      <th>4</th>\n      <td>7</td>\n      <td>2.219171e+00</td>\n      <td>1.360925e-08</td>\n    </tr>\n    <tr>\n      <th>5</th>\n      <td>8</td>\n      <td>1.972211e+01</td>\n      <td>1.203346e-07</td>\n    </tr>\n    <tr>\n      <th>6</th>\n      <td>9</td>\n      <td>4.947851e+01</td>\n      <td>5.400507e-07</td>\n    </tr>\n    <tr>\n      <th>7</th>\n      <td>10</td>\n      <td>1.815739e+01</td>\n      <td>1.662034e-04</td>\n    </tr>\n    <tr>\n      <th>8</th>\n      <td>11</td>\n      <td>1.377948e+01</td>\n      <td>1.223408e-02</td>\n    </tr>\n    <tr>\n      <th>9</th>\n      <td>12</td>\n      <td>4.692580e+00</td>\n      <td>1.213976e+00</td>\n    </tr>\n    <tr>\n      <th>10</th>\n      <td>13</td>\n      <td>8.386541e+00</td>\n      <td>2.121511e+01</td>\n    </tr>\n    <tr>\n      <th>11</th>\n      <td>14</td>\n      <td>5.707215e+00</td>\n      <td>2.111560e+01</td>\n    </tr>\n    <tr>\n      <th>12</th>\n      <td>15</td>\n      <td>1.353520e+01</td>\n      <td>1.504852e+01</td>\n    </tr>\n    <tr>\n      <th>13</th>\n      <td>16</td>\n      <td>4.893529e+01</td>\n      <td>2.594319e+01</td>\n    </tr>\n    <tr>\n      <th>14</th>\n      <td>17</td>\n      <td>8.208219e+01</td>\n      <td>2.298492e+01</td>\n    </tr>\n    <tr>\n      <th>15</th>\n      <td>18</td>\n      <td>7.338206e+01</td>\n      <td>2.219902e+01</td>\n    </tr>\n    <tr>\n      <th>16</th>\n      <td>19</td>\n      <td>9.488977e+01</td>\n      <td>8.536603e+01</td>\n    </tr>\n    <tr>\n      <th>17</th>\n      <td>20</td>\n      <td>2.652555e+02</td>\n      <td>8.714011e+02</td>\n    </tr>\n  </tbody>\n</table>\n</div>"
     },
     "execution_count": 4,
     "metadata": {},
     "output_type": "execute_result"
    }
   ],
   "source": [
    "numbers = [3, 4, 5, 6, 7, 8, 9, 10, 11, 12, 13, 14, 15, 16, 17, 18, 19, 20]\n",
    "df_1 = exercise_1(numbers)\n",
    "df_1\n",
    "\n"
   ]
  },
  {
   "cell_type": "code",
   "execution_count": 5,
   "outputs": [],
   "source": [
    "def exercise_2(numbers):\n",
    "    result = []\n",
    "    for n in numbers:\n",
    "        for float_type in [np.float32, np.float64]:\n",
    "            A = np.zeros((n, n)).astype(float_type)\n",
    "            for i in range(1, n + 1):\n",
    "                for j in range(1, n + 1):\n",
    "                    if j >= i:\n",
    "                        A[i - 1][j - 1] = 2 * i / j\n",
    "                    else:\n",
    "                        A[i - 1][j - 1] = A[j - 1][i - 1]\n",
    "            X_vec = np.array([1 if i % 2 == 0 else -1 for i in range(n)]).astype(float_type)\n",
    "            B = A @ X_vec\n",
    "            X = gaussian_elimination(A, B)\n",
    "            norm = np.linalg.norm(X_vec - X)\n",
    "            result += [norm]\n",
    "    df = pd.DataFrame(data={\"n\": numbers,\n",
    "                            \"float32\": result[::2],\n",
    "                            \"float64\": result[1::2]})\n",
    "    return df\n"
   ],
   "metadata": {
    "collapsed": false,
    "ExecuteTime": {
     "end_time": "2023-06-02T11:47:14.577633700Z",
     "start_time": "2023-06-02T11:47:14.571889900Z"
    }
   }
  },
  {
   "cell_type": "code",
   "execution_count": 6,
   "outputs": [
    {
     "data": {
      "text/plain": "      n       float32       float64\n0     3  6.862448e-08  3.140185e-16\n1     4  4.442668e-08  2.482534e-16\n2     5  1.074952e-07  4.154074e-16\n3     6  1.500748e-07  9.742168e-16\n4     7  2.090608e-07  1.694682e-15\n5     8  1.393625e-06  4.672179e-15\n6     9  1.397353e-06  3.310252e-15\n7    10  1.402411e-06  3.082744e-15\n8    11  1.582869e-06  4.421421e-15\n9    12  4.879637e-06  1.980403e-14\n10   13  5.414594e-06  2.200791e-14\n11   14  5.456118e-06  2.276769e-14\n12   15  5.683284e-06  2.836115e-14\n13   16  8.616648e-06  3.801018e-14\n14   17  8.617343e-06  3.716180e-14\n15   18  8.765599e-06  3.651976e-14\n16   19  8.955626e-06  3.889348e-14\n17   20  1.263237e-05  3.809004e-14\n18   50  1.130418e-04  3.460566e-13\n19  100  9.009658e-04  2.934095e-12\n20  200  5.496451e-03  2.555991e-11",
      "text/html": "<div>\n<style scoped>\n    .dataframe tbody tr th:only-of-type {\n        vertical-align: middle;\n    }\n\n    .dataframe tbody tr th {\n        vertical-align: top;\n    }\n\n    .dataframe thead th {\n        text-align: right;\n    }\n</style>\n<table border=\"1\" class=\"dataframe\">\n  <thead>\n    <tr style=\"text-align: right;\">\n      <th></th>\n      <th>n</th>\n      <th>float32</th>\n      <th>float64</th>\n    </tr>\n  </thead>\n  <tbody>\n    <tr>\n      <th>0</th>\n      <td>3</td>\n      <td>6.862448e-08</td>\n      <td>3.140185e-16</td>\n    </tr>\n    <tr>\n      <th>1</th>\n      <td>4</td>\n      <td>4.442668e-08</td>\n      <td>2.482534e-16</td>\n    </tr>\n    <tr>\n      <th>2</th>\n      <td>5</td>\n      <td>1.074952e-07</td>\n      <td>4.154074e-16</td>\n    </tr>\n    <tr>\n      <th>3</th>\n      <td>6</td>\n      <td>1.500748e-07</td>\n      <td>9.742168e-16</td>\n    </tr>\n    <tr>\n      <th>4</th>\n      <td>7</td>\n      <td>2.090608e-07</td>\n      <td>1.694682e-15</td>\n    </tr>\n    <tr>\n      <th>5</th>\n      <td>8</td>\n      <td>1.393625e-06</td>\n      <td>4.672179e-15</td>\n    </tr>\n    <tr>\n      <th>6</th>\n      <td>9</td>\n      <td>1.397353e-06</td>\n      <td>3.310252e-15</td>\n    </tr>\n    <tr>\n      <th>7</th>\n      <td>10</td>\n      <td>1.402411e-06</td>\n      <td>3.082744e-15</td>\n    </tr>\n    <tr>\n      <th>8</th>\n      <td>11</td>\n      <td>1.582869e-06</td>\n      <td>4.421421e-15</td>\n    </tr>\n    <tr>\n      <th>9</th>\n      <td>12</td>\n      <td>4.879637e-06</td>\n      <td>1.980403e-14</td>\n    </tr>\n    <tr>\n      <th>10</th>\n      <td>13</td>\n      <td>5.414594e-06</td>\n      <td>2.200791e-14</td>\n    </tr>\n    <tr>\n      <th>11</th>\n      <td>14</td>\n      <td>5.456118e-06</td>\n      <td>2.276769e-14</td>\n    </tr>\n    <tr>\n      <th>12</th>\n      <td>15</td>\n      <td>5.683284e-06</td>\n      <td>2.836115e-14</td>\n    </tr>\n    <tr>\n      <th>13</th>\n      <td>16</td>\n      <td>8.616648e-06</td>\n      <td>3.801018e-14</td>\n    </tr>\n    <tr>\n      <th>14</th>\n      <td>17</td>\n      <td>8.617343e-06</td>\n      <td>3.716180e-14</td>\n    </tr>\n    <tr>\n      <th>15</th>\n      <td>18</td>\n      <td>8.765599e-06</td>\n      <td>3.651976e-14</td>\n    </tr>\n    <tr>\n      <th>16</th>\n      <td>19</td>\n      <td>8.955626e-06</td>\n      <td>3.889348e-14</td>\n    </tr>\n    <tr>\n      <th>17</th>\n      <td>20</td>\n      <td>1.263237e-05</td>\n      <td>3.809004e-14</td>\n    </tr>\n    <tr>\n      <th>18</th>\n      <td>50</td>\n      <td>1.130418e-04</td>\n      <td>3.460566e-13</td>\n    </tr>\n    <tr>\n      <th>19</th>\n      <td>100</td>\n      <td>9.009658e-04</td>\n      <td>2.934095e-12</td>\n    </tr>\n    <tr>\n      <th>20</th>\n      <td>200</td>\n      <td>5.496451e-03</td>\n      <td>2.555991e-11</td>\n    </tr>\n  </tbody>\n</table>\n</div>"
     },
     "execution_count": 6,
     "metadata": {},
     "output_type": "execute_result"
    }
   ],
   "source": [
    "numbers = [3, 4, 5, 6, 7, 8, 9, 10, 11, 12, 13, 14, 15, 16, 17, 18, 19, 20, 50, 100, 200]\n",
    "df_2 = exercise_2(numbers)\n",
    "df_2"
   ],
   "metadata": {
    "collapsed": false,
    "ExecuteTime": {
     "end_time": "2023-06-02T11:47:14.731906300Z",
     "start_time": "2023-06-02T11:47:14.575633200Z"
    }
   }
  },
  {
   "cell_type": "code",
   "execution_count": 7,
   "outputs": [
    {
     "data": {
      "text/plain": "       n  Punkt 1 - float32  Punkt 2 - float32  Punkt 1 - float64  \\\n0    3.0       3.345309e-06       6.862448e-08       0.000000e+00   \n1    4.0       6.646519e-15       4.442668e-08       3.018715e-13   \n2    5.0       3.369467e-04       1.074952e-07       9.229383e-12   \n3    6.0       5.440998e-11       1.500748e-07       3.637978e-10   \n4    7.0       2.219171e+00       2.090608e-07       1.360925e-08   \n5    8.0       1.972211e+01       1.393625e-06       1.203346e-07   \n6    9.0       4.947851e+01       1.397353e-06       5.400507e-07   \n7   10.0       1.815739e+01       1.402411e-06       1.662034e-04   \n8   11.0       1.377948e+01       1.582869e-06       1.223408e-02   \n9   12.0       4.692580e+00       4.879637e-06       1.213976e+00   \n10  13.0       8.386541e+00       5.414594e-06       2.121511e+01   \n11  14.0       5.707215e+00       5.456118e-06       2.111560e+01   \n12  15.0       1.353520e+01       5.683284e-06       1.504852e+01   \n13  16.0       4.893529e+01       8.616648e-06       2.594319e+01   \n14  17.0       8.208219e+01       8.617343e-06       2.298492e+01   \n15  18.0       7.338206e+01       8.765599e-06       2.219902e+01   \n16  19.0       9.488977e+01       8.955626e-06       8.536603e+01   \n17  20.0       2.652555e+02       1.263237e-05       8.714011e+02   \n18   NaN                NaN       1.130418e-04                NaN   \n19   NaN                NaN       9.009658e-04                NaN   \n20   NaN                NaN       5.496451e-03                NaN   \n\n    Punkt 2 - float64  \n0        3.140185e-16  \n1        2.482534e-16  \n2        4.154074e-16  \n3        9.742168e-16  \n4        1.694682e-15  \n5        4.672179e-15  \n6        3.310252e-15  \n7        3.082744e-15  \n8        4.421421e-15  \n9        1.980403e-14  \n10       2.200791e-14  \n11       2.276769e-14  \n12       2.836115e-14  \n13       3.801018e-14  \n14       3.716180e-14  \n15       3.651976e-14  \n16       3.889348e-14  \n17       3.809004e-14  \n18       3.460566e-13  \n19       2.934095e-12  \n20       2.555991e-11  ",
      "text/html": "<div>\n<style scoped>\n    .dataframe tbody tr th:only-of-type {\n        vertical-align: middle;\n    }\n\n    .dataframe tbody tr th {\n        vertical-align: top;\n    }\n\n    .dataframe thead th {\n        text-align: right;\n    }\n</style>\n<table border=\"1\" class=\"dataframe\">\n  <thead>\n    <tr style=\"text-align: right;\">\n      <th></th>\n      <th>n</th>\n      <th>Punkt 1 - float32</th>\n      <th>Punkt 2 - float32</th>\n      <th>Punkt 1 - float64</th>\n      <th>Punkt 2 - float64</th>\n    </tr>\n  </thead>\n  <tbody>\n    <tr>\n      <th>0</th>\n      <td>3.0</td>\n      <td>3.345309e-06</td>\n      <td>6.862448e-08</td>\n      <td>0.000000e+00</td>\n      <td>3.140185e-16</td>\n    </tr>\n    <tr>\n      <th>1</th>\n      <td>4.0</td>\n      <td>6.646519e-15</td>\n      <td>4.442668e-08</td>\n      <td>3.018715e-13</td>\n      <td>2.482534e-16</td>\n    </tr>\n    <tr>\n      <th>2</th>\n      <td>5.0</td>\n      <td>3.369467e-04</td>\n      <td>1.074952e-07</td>\n      <td>9.229383e-12</td>\n      <td>4.154074e-16</td>\n    </tr>\n    <tr>\n      <th>3</th>\n      <td>6.0</td>\n      <td>5.440998e-11</td>\n      <td>1.500748e-07</td>\n      <td>3.637978e-10</td>\n      <td>9.742168e-16</td>\n    </tr>\n    <tr>\n      <th>4</th>\n      <td>7.0</td>\n      <td>2.219171e+00</td>\n      <td>2.090608e-07</td>\n      <td>1.360925e-08</td>\n      <td>1.694682e-15</td>\n    </tr>\n    <tr>\n      <th>5</th>\n      <td>8.0</td>\n      <td>1.972211e+01</td>\n      <td>1.393625e-06</td>\n      <td>1.203346e-07</td>\n      <td>4.672179e-15</td>\n    </tr>\n    <tr>\n      <th>6</th>\n      <td>9.0</td>\n      <td>4.947851e+01</td>\n      <td>1.397353e-06</td>\n      <td>5.400507e-07</td>\n      <td>3.310252e-15</td>\n    </tr>\n    <tr>\n      <th>7</th>\n      <td>10.0</td>\n      <td>1.815739e+01</td>\n      <td>1.402411e-06</td>\n      <td>1.662034e-04</td>\n      <td>3.082744e-15</td>\n    </tr>\n    <tr>\n      <th>8</th>\n      <td>11.0</td>\n      <td>1.377948e+01</td>\n      <td>1.582869e-06</td>\n      <td>1.223408e-02</td>\n      <td>4.421421e-15</td>\n    </tr>\n    <tr>\n      <th>9</th>\n      <td>12.0</td>\n      <td>4.692580e+00</td>\n      <td>4.879637e-06</td>\n      <td>1.213976e+00</td>\n      <td>1.980403e-14</td>\n    </tr>\n    <tr>\n      <th>10</th>\n      <td>13.0</td>\n      <td>8.386541e+00</td>\n      <td>5.414594e-06</td>\n      <td>2.121511e+01</td>\n      <td>2.200791e-14</td>\n    </tr>\n    <tr>\n      <th>11</th>\n      <td>14.0</td>\n      <td>5.707215e+00</td>\n      <td>5.456118e-06</td>\n      <td>2.111560e+01</td>\n      <td>2.276769e-14</td>\n    </tr>\n    <tr>\n      <th>12</th>\n      <td>15.0</td>\n      <td>1.353520e+01</td>\n      <td>5.683284e-06</td>\n      <td>1.504852e+01</td>\n      <td>2.836115e-14</td>\n    </tr>\n    <tr>\n      <th>13</th>\n      <td>16.0</td>\n      <td>4.893529e+01</td>\n      <td>8.616648e-06</td>\n      <td>2.594319e+01</td>\n      <td>3.801018e-14</td>\n    </tr>\n    <tr>\n      <th>14</th>\n      <td>17.0</td>\n      <td>8.208219e+01</td>\n      <td>8.617343e-06</td>\n      <td>2.298492e+01</td>\n      <td>3.716180e-14</td>\n    </tr>\n    <tr>\n      <th>15</th>\n      <td>18.0</td>\n      <td>7.338206e+01</td>\n      <td>8.765599e-06</td>\n      <td>2.219902e+01</td>\n      <td>3.651976e-14</td>\n    </tr>\n    <tr>\n      <th>16</th>\n      <td>19.0</td>\n      <td>9.488977e+01</td>\n      <td>8.955626e-06</td>\n      <td>8.536603e+01</td>\n      <td>3.889348e-14</td>\n    </tr>\n    <tr>\n      <th>17</th>\n      <td>20.0</td>\n      <td>2.652555e+02</td>\n      <td>1.263237e-05</td>\n      <td>8.714011e+02</td>\n      <td>3.809004e-14</td>\n    </tr>\n    <tr>\n      <th>18</th>\n      <td>NaN</td>\n      <td>NaN</td>\n      <td>1.130418e-04</td>\n      <td>NaN</td>\n      <td>3.460566e-13</td>\n    </tr>\n    <tr>\n      <th>19</th>\n      <td>NaN</td>\n      <td>NaN</td>\n      <td>9.009658e-04</td>\n      <td>NaN</td>\n      <td>2.934095e-12</td>\n    </tr>\n    <tr>\n      <th>20</th>\n      <td>NaN</td>\n      <td>NaN</td>\n      <td>5.496451e-03</td>\n      <td>NaN</td>\n      <td>2.555991e-11</td>\n    </tr>\n  </tbody>\n</table>\n</div>"
     },
     "execution_count": 7,
     "metadata": {},
     "output_type": "execute_result"
    }
   ],
   "source": [
    "def compare(df_1, df_2):\n",
    "    df = pd.DataFrame(data={\"n\": df_1[\"n\"].astype(int),\n",
    "                            \"Punkt 1 - float32\": df_1[\"float32\"],\n",
    "                            \"Punkt 2 - float32\": df_2[\"float32\"],\n",
    "                            \"Punkt 1 - float64\": df_1[\"float64\"],\n",
    "                            \"Punkt 2 - float64\": df_2[\"float64\"]})\n",
    "    return df\n",
    "\n",
    "compare_df = compare(df_1, df_2)\n",
    "compare_df\n",
    "\n"
   ],
   "metadata": {
    "collapsed": false,
    "ExecuteTime": {
     "end_time": "2023-06-02T11:47:14.746751600Z",
     "start_time": "2023-06-02T11:47:14.742111300Z"
    }
   }
  },
  {
   "cell_type": "code",
   "execution_count": 8,
   "outputs": [
    {
     "data": {
      "text/plain": "     n  Problem 1 wskaźnik uwarunkowania  Problem 2 wskaźnik uwarunkowania\n0    3                      2.160000e+02                          1.444444\n1    4                      2.880000e+03                          1.833333\n2    5                      2.800000e+04                          2.233333\n3    6                      2.268000e+05                          2.644444\n4    7                      1.629936e+06                          3.031746\n5    8                      1.286208e+07                          3.448413\n6    9                      1.120002e+08                          3.849206\n7   10                      8.841438e+08                          4.249206\n8   11                      6.473792e+09                          4.659428\n9   12                      4.407939e+10                          5.055219\n10  13                      1.347671e+11                          5.465475\n11  14                      2.459224e+11                          5.868898\n12  15                      1.733309e+11                          6.268898\n13  20                      4.003893e+11                          8.289565",
      "text/html": "<div>\n<style scoped>\n    .dataframe tbody tr th:only-of-type {\n        vertical-align: middle;\n    }\n\n    .dataframe tbody tr th {\n        vertical-align: top;\n    }\n\n    .dataframe thead th {\n        text-align: right;\n    }\n</style>\n<table border=\"1\" class=\"dataframe\">\n  <thead>\n    <tr style=\"text-align: right;\">\n      <th></th>\n      <th>n</th>\n      <th>Problem 1 wskaźnik uwarunkowania</th>\n      <th>Problem 2 wskaźnik uwarunkowania</th>\n    </tr>\n  </thead>\n  <tbody>\n    <tr>\n      <th>0</th>\n      <td>3</td>\n      <td>2.160000e+02</td>\n      <td>1.444444</td>\n    </tr>\n    <tr>\n      <th>1</th>\n      <td>4</td>\n      <td>2.880000e+03</td>\n      <td>1.833333</td>\n    </tr>\n    <tr>\n      <th>2</th>\n      <td>5</td>\n      <td>2.800000e+04</td>\n      <td>2.233333</td>\n    </tr>\n    <tr>\n      <th>3</th>\n      <td>6</td>\n      <td>2.268000e+05</td>\n      <td>2.644444</td>\n    </tr>\n    <tr>\n      <th>4</th>\n      <td>7</td>\n      <td>1.629936e+06</td>\n      <td>3.031746</td>\n    </tr>\n    <tr>\n      <th>5</th>\n      <td>8</td>\n      <td>1.286208e+07</td>\n      <td>3.448413</td>\n    </tr>\n    <tr>\n      <th>6</th>\n      <td>9</td>\n      <td>1.120002e+08</td>\n      <td>3.849206</td>\n    </tr>\n    <tr>\n      <th>7</th>\n      <td>10</td>\n      <td>8.841438e+08</td>\n      <td>4.249206</td>\n    </tr>\n    <tr>\n      <th>8</th>\n      <td>11</td>\n      <td>6.473792e+09</td>\n      <td>4.659428</td>\n    </tr>\n    <tr>\n      <th>9</th>\n      <td>12</td>\n      <td>4.407939e+10</td>\n      <td>5.055219</td>\n    </tr>\n    <tr>\n      <th>10</th>\n      <td>13</td>\n      <td>1.347671e+11</td>\n      <td>5.465475</td>\n    </tr>\n    <tr>\n      <th>11</th>\n      <td>14</td>\n      <td>2.459224e+11</td>\n      <td>5.868898</td>\n    </tr>\n    <tr>\n      <th>12</th>\n      <td>15</td>\n      <td>1.733309e+11</td>\n      <td>6.268898</td>\n    </tr>\n    <tr>\n      <th>13</th>\n      <td>20</td>\n      <td>4.003893e+11</td>\n      <td>8.289565</td>\n    </tr>\n  </tbody>\n</table>\n</div>"
     },
     "execution_count": 8,
     "metadata": {},
     "output_type": "execute_result"
    }
   ],
   "source": [
    "def norm(A):\n",
    "    n = len(A)\n",
    "    return max(sum(A[i][j] for j in range(n)) for i in range(n))\n",
    "\n",
    "def create_A1(n):\n",
    "    return np.array([[1 / (i + j - 1) if i != 1 else 1 for j in range(1, n + 1)] for i in range(1, n + 1)])\n",
    "\n",
    "def create_A2(n):\n",
    "    A = np.zeros((n, n))\n",
    "    for i in range(1, n + 1):\n",
    "        for j in range(1, n + 1):\n",
    "            if j >= i:\n",
    "                A[i - 1][j - 1] = 2 * i / j\n",
    "            else:\n",
    "                A[i - 1][j - 1] = A[j - 1][i - 1]\n",
    "    return A\n",
    "\n",
    "def conditioning_factor(A):\n",
    "    A_inv = np.linalg.inv(A)\n",
    "    return norm(A_inv) * norm(A)\n",
    "\n",
    "def condition_number(numbers):\n",
    "    result = []\n",
    "    for n in numbers:\n",
    "        con_num_1 = conditioning_factor(create_A1(n))\n",
    "        con_num_2 = conditioning_factor(create_A2(n))\n",
    "        result += [con_num_1, con_num_2]\n",
    "    df = pd.DataFrame(data={\"n\":numbers,\n",
    "                            \"Problem 1 wskaźnik uwarunkowania\":result[::2],\n",
    "                            \"Problem 2 wskaźnik uwarunkowania\":result[1::2]})\n",
    "    return df\n",
    "\n",
    "numbers = [3, 4, 5, 6, 7, 8, 9, 10, 11, 12, 13, 14, 15, 20]\n",
    "condition_df = condition_number(numbers)\n",
    "condition_df\n",
    "\n"
   ],
   "metadata": {
    "collapsed": false,
    "ExecuteTime": {
     "end_time": "2023-06-02T11:47:14.819347600Z",
     "start_time": "2023-06-02T11:47:14.748753100Z"
    }
   }
  },
  {
   "cell_type": "code",
   "execution_count": 9,
   "outputs": [
    {
     "data": {
      "text/plain": "      n  Metoda Gaussa - błąd  Metoda Thomasa - błąd  \\\n0     3          3.140185e-16           3.140185e-16   \n1     4          3.140185e-16           3.140185e-16   \n2     5          4.002966e-16           4.002966e-16   \n3     6          3.510833e-16           3.510833e-16   \n4     7          3.510833e-16           3.510833e-16   \n5     8          3.510833e-16           3.510833e-16   \n6     9          3.510833e-16           3.510833e-16   \n7    10          3.510833e-16           3.510833e-16   \n8    11          4.710277e-16           4.710277e-16   \n9    12          4.710277e-16           4.710277e-16   \n10   13          4.710277e-16           4.710277e-16   \n11   14          5.661049e-16           5.661049e-16   \n12   15          4.839350e-16           4.839350e-16   \n13   20          4.839350e-16           4.839350e-16   \n14   30          6.181460e-16           6.181460e-16   \n15   50          9.288792e-16           9.288792e-16   \n16   70          1.011461e-15           1.011461e-15   \n17  100          1.368775e-15           1.368775e-15   \n18  150          1.900396e-15           1.900396e-15   \n19  200          2.181242e-15           2.181242e-15   \n20  300          2.584698e-15           2.584698e-15   \n21  500          3.376612e-15           3.376612e-15   \n\n    Metoda Gaussa - czas [s]  Metoda Thomasa - czas [s]  \n0                   0.000122                   0.000015  \n1                   0.000129                   0.000016  \n2                   0.000116                   0.000011  \n3                   0.000116                   0.000011  \n4                   0.000141                   0.000011  \n5                   0.000180                   0.000012  \n6                   0.000223                   0.000014  \n7                   0.000209                   0.000024  \n8                   0.000292                   0.000016  \n9                   0.000186                   0.000018  \n10                  0.000208                   0.000018  \n11                  0.000460                   0.000022  \n12                  0.000511                   0.000026  \n13                  0.000447                   0.000027  \n14                  0.000942                   0.000039  \n15                  0.002457                   0.000064  \n16                  0.004788                   0.000096  \n17                  0.009787                   0.000127  \n18                  0.022823                   0.000202  \n19                  0.043799                   0.000250  \n20                  0.097905                   0.000355  \n21                  0.423278                   0.000944  ",
      "text/html": "<div>\n<style scoped>\n    .dataframe tbody tr th:only-of-type {\n        vertical-align: middle;\n    }\n\n    .dataframe tbody tr th {\n        vertical-align: top;\n    }\n\n    .dataframe thead th {\n        text-align: right;\n    }\n</style>\n<table border=\"1\" class=\"dataframe\">\n  <thead>\n    <tr style=\"text-align: right;\">\n      <th></th>\n      <th>n</th>\n      <th>Metoda Gaussa - błąd</th>\n      <th>Metoda Thomasa - błąd</th>\n      <th>Metoda Gaussa - czas [s]</th>\n      <th>Metoda Thomasa - czas [s]</th>\n    </tr>\n  </thead>\n  <tbody>\n    <tr>\n      <th>0</th>\n      <td>3</td>\n      <td>3.140185e-16</td>\n      <td>3.140185e-16</td>\n      <td>0.000122</td>\n      <td>0.000015</td>\n    </tr>\n    <tr>\n      <th>1</th>\n      <td>4</td>\n      <td>3.140185e-16</td>\n      <td>3.140185e-16</td>\n      <td>0.000129</td>\n      <td>0.000016</td>\n    </tr>\n    <tr>\n      <th>2</th>\n      <td>5</td>\n      <td>4.002966e-16</td>\n      <td>4.002966e-16</td>\n      <td>0.000116</td>\n      <td>0.000011</td>\n    </tr>\n    <tr>\n      <th>3</th>\n      <td>6</td>\n      <td>3.510833e-16</td>\n      <td>3.510833e-16</td>\n      <td>0.000116</td>\n      <td>0.000011</td>\n    </tr>\n    <tr>\n      <th>4</th>\n      <td>7</td>\n      <td>3.510833e-16</td>\n      <td>3.510833e-16</td>\n      <td>0.000141</td>\n      <td>0.000011</td>\n    </tr>\n    <tr>\n      <th>5</th>\n      <td>8</td>\n      <td>3.510833e-16</td>\n      <td>3.510833e-16</td>\n      <td>0.000180</td>\n      <td>0.000012</td>\n    </tr>\n    <tr>\n      <th>6</th>\n      <td>9</td>\n      <td>3.510833e-16</td>\n      <td>3.510833e-16</td>\n      <td>0.000223</td>\n      <td>0.000014</td>\n    </tr>\n    <tr>\n      <th>7</th>\n      <td>10</td>\n      <td>3.510833e-16</td>\n      <td>3.510833e-16</td>\n      <td>0.000209</td>\n      <td>0.000024</td>\n    </tr>\n    <tr>\n      <th>8</th>\n      <td>11</td>\n      <td>4.710277e-16</td>\n      <td>4.710277e-16</td>\n      <td>0.000292</td>\n      <td>0.000016</td>\n    </tr>\n    <tr>\n      <th>9</th>\n      <td>12</td>\n      <td>4.710277e-16</td>\n      <td>4.710277e-16</td>\n      <td>0.000186</td>\n      <td>0.000018</td>\n    </tr>\n    <tr>\n      <th>10</th>\n      <td>13</td>\n      <td>4.710277e-16</td>\n      <td>4.710277e-16</td>\n      <td>0.000208</td>\n      <td>0.000018</td>\n    </tr>\n    <tr>\n      <th>11</th>\n      <td>14</td>\n      <td>5.661049e-16</td>\n      <td>5.661049e-16</td>\n      <td>0.000460</td>\n      <td>0.000022</td>\n    </tr>\n    <tr>\n      <th>12</th>\n      <td>15</td>\n      <td>4.839350e-16</td>\n      <td>4.839350e-16</td>\n      <td>0.000511</td>\n      <td>0.000026</td>\n    </tr>\n    <tr>\n      <th>13</th>\n      <td>20</td>\n      <td>4.839350e-16</td>\n      <td>4.839350e-16</td>\n      <td>0.000447</td>\n      <td>0.000027</td>\n    </tr>\n    <tr>\n      <th>14</th>\n      <td>30</td>\n      <td>6.181460e-16</td>\n      <td>6.181460e-16</td>\n      <td>0.000942</td>\n      <td>0.000039</td>\n    </tr>\n    <tr>\n      <th>15</th>\n      <td>50</td>\n      <td>9.288792e-16</td>\n      <td>9.288792e-16</td>\n      <td>0.002457</td>\n      <td>0.000064</td>\n    </tr>\n    <tr>\n      <th>16</th>\n      <td>70</td>\n      <td>1.011461e-15</td>\n      <td>1.011461e-15</td>\n      <td>0.004788</td>\n      <td>0.000096</td>\n    </tr>\n    <tr>\n      <th>17</th>\n      <td>100</td>\n      <td>1.368775e-15</td>\n      <td>1.368775e-15</td>\n      <td>0.009787</td>\n      <td>0.000127</td>\n    </tr>\n    <tr>\n      <th>18</th>\n      <td>150</td>\n      <td>1.900396e-15</td>\n      <td>1.900396e-15</td>\n      <td>0.022823</td>\n      <td>0.000202</td>\n    </tr>\n    <tr>\n      <th>19</th>\n      <td>200</td>\n      <td>2.181242e-15</td>\n      <td>2.181242e-15</td>\n      <td>0.043799</td>\n      <td>0.000250</td>\n    </tr>\n    <tr>\n      <th>20</th>\n      <td>300</td>\n      <td>2.584698e-15</td>\n      <td>2.584698e-15</td>\n      <td>0.097905</td>\n      <td>0.000355</td>\n    </tr>\n    <tr>\n      <th>21</th>\n      <td>500</td>\n      <td>3.376612e-15</td>\n      <td>3.376612e-15</td>\n      <td>0.423278</td>\n      <td>0.000944</td>\n    </tr>\n  </tbody>\n</table>\n</div>"
     },
     "execution_count": 9,
     "metadata": {},
     "output_type": "execute_result"
    }
   ],
   "source": [
    "from time import perf_counter\n",
    "\n",
    "def thomas_algorithm(A, B):\n",
    "    n = np.shape(A)[0]\n",
    "    C = np.zeros(n)\n",
    "    C[0] = A[0][0]\n",
    "\n",
    "    X = np.zeros(n)\n",
    "    X[0] = B[0]\n",
    "\n",
    "    for i in range(1, n):\n",
    "        ratio = A[i][i - 1] / C[i - 1]\n",
    "        C[i] = A[i][i] - ratio * A[i - 1][i]\n",
    "        X[i] = B[i] - ratio * X[i - 1]\n",
    "\n",
    "    X[n - 1] = X[n - 1] / C[n - 1]\n",
    "    for i in range(n - 2, -1, -1):\n",
    "        X[i] = (X[i] - A[i][i + 1] * X[i + 1]) / C[i]\n",
    "    return X\n",
    "\n",
    "def exercise_3(numbers, k, m):\n",
    "    result = []\n",
    "    for n in numbers:\n",
    "        A = np.zeros((n, n))\n",
    "        for i in range(1, n + 1):\n",
    "            for j in range(1, n + 1):\n",
    "                if i == j:\n",
    "                    A[i - 1][j - 1] = -m * i - k\n",
    "                elif j == i + 1:\n",
    "                    A[i - 1][j - 1] = i\n",
    "                elif i > j == i - 1:\n",
    "                    A[i - 1][j - 1] = m / i\n",
    "        X_vec = np.array([1 if i % 2 == 0 else -1 for i in range(n)])\n",
    "        B = A @ X_vec\n",
    "        gaussian_start = perf_counter()\n",
    "        X_gaussian = gaussian_elimination(A, B)\n",
    "        gaussian_end = perf_counter()\n",
    "        gaussian_time = gaussian_end - gaussian_start\n",
    "        norm_gaussian = np.linalg.norm(X_vec - X_gaussian)\n",
    "\n",
    "        thomas_start = perf_counter()\n",
    "        X_thomas = thomas_algorithm(A, B)\n",
    "        thomas_end = perf_counter()\n",
    "        thomas_time = thomas_end - thomas_start\n",
    "        norm_thomas = np.linalg.norm(X_vec - X_thomas)\n",
    "        result += [norm_gaussian, norm_thomas, gaussian_time, thomas_time]\n",
    "    df = pd.DataFrame(data={\"n\": numbers,\n",
    "                            \"Metoda Gaussa - błąd\": result[::4],\n",
    "                            \"Metoda Thomasa - błąd\": result[1::4],\n",
    "                            \"Metoda Gaussa - czas [s]\": result[2::4],\n",
    "                            \"Metoda Thomasa - czas [s]\": result[3::4]})\n",
    "    return df\n",
    "\n",
    "numbers = [3, 4, 5, 6, 7, 8, 9, 10, 11, 12, 13, 14, 15, 20, 30, 50, 70, 100, 150, 200, 300, 500]\n",
    "df_3 = exercise_3(numbers, 4,2)\n",
    "df_3\n",
    "\n"
   ],
   "metadata": {
    "collapsed": false,
    "ExecuteTime": {
     "end_time": "2023-06-02T11:47:15.420093300Z",
     "start_time": "2023-06-02T11:47:14.764351200Z"
    }
   }
  },
  {
   "cell_type": "code",
   "execution_count": 9,
   "outputs": [],
   "source": [],
   "metadata": {
    "collapsed": false,
    "ExecuteTime": {
     "end_time": "2023-06-02T11:47:15.422821300Z",
     "start_time": "2023-06-02T11:47:15.421219200Z"
    }
   }
  }
 ],
 "metadata": {
  "kernelspec": {
   "display_name": "Python 3 (ipykernel)",
   "language": "python",
   "name": "python3"
  },
  "language_info": {
   "codemirror_mode": {
    "name": "ipython",
    "version": 3
   },
   "file_extension": ".py",
   "mimetype": "text/x-python",
   "name": "python",
   "nbconvert_exporter": "python",
   "pygments_lexer": "ipython3",
   "version": "3.11.2"
  }
 },
 "nbformat": 4,
 "nbformat_minor": 1
}
