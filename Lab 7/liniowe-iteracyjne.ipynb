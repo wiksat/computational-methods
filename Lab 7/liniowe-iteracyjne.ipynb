{
 "cells": [
  {
   "cell_type": "code",
   "execution_count": 26,
   "id": "9adb76d9",
   "metadata": {
    "ExecuteTime": {
     "end_time": "2023-06-16T13:29:52.108240Z",
     "start_time": "2023-06-16T13:29:52.080231100Z"
    }
   },
   "outputs": [],
   "source": [
    "import numpy as np\n",
    "import pandas as pd\n",
    "from time import perf_counter"
   ]
  },
  {
   "cell_type": "code",
   "execution_count": 27,
   "id": "5e7004fe",
   "metadata": {
    "ExecuteTime": {
     "end_time": "2023-06-16T13:29:52.115748400Z",
     "start_time": "2023-06-16T13:29:52.084741200Z"
    }
   },
   "outputs": [],
   "source": [
    "def jacobi_method(A, b, stop_cond, epsilon, max_iters):\n",
    "    D = np.diag(A)\n",
    "    R = A - np.diagflat(D)\n",
    "    # X = np.zeros_like(b)\n",
    "    X = np.full_like(b, 100)\n",
    "    iters = 0\n",
    "    for _ in range(max_iters):\n",
    "        X_new = (b - (R @ X)) / D\n",
    "        iters += 1\n",
    "        if stop_cond == 1 and np.linalg.norm(X_new - X) < epsilon:\n",
    "            break\n",
    "        elif stop_cond == 2 and np.linalg.norm(A @ X - b) < epsilon:\n",
    "            break\n",
    "        X = X_new\n",
    "    return X, iters"
   ]
  },
  {
   "cell_type": "code",
   "execution_count": 28,
   "id": "84f2a9a5",
   "metadata": {
    "ExecuteTime": {
     "end_time": "2023-06-16T13:29:52.117773800Z",
     "start_time": "2023-06-16T13:29:52.089661200Z"
    }
   },
   "outputs": [],
   "source": [
    "def exercise_1(numbers, epsilon, k, m, max_iters):\n",
    "    result = []\n",
    "    for n in numbers:\n",
    "        A = np.array([[k if i == j else m / (n - i - j + 0.5) for j in range(n)] for i in range(n)])\n",
    "        X_vec = np.array([1 if i % 2 == 0 else -1 for i in range(n)])\n",
    "        b = A @ X_vec\n",
    "        # stop condition 1\n",
    "        start = perf_counter()\n",
    "        X, first_iters = jacobi_method(A, b, 1, epsilon, max_iters)\n",
    "        end = perf_counter()\n",
    "        first_time = end - start\n",
    "        first_norm = np.linalg.norm(X_vec - X)\n",
    "\n",
    "        # stop condition 2\n",
    "        start = perf_counter()\n",
    "        X, second_iters = jacobi_method(A, b, 2, epsilon, max_iters)\n",
    "        end = perf_counter()\n",
    "        second_time = end - start\n",
    "        second_norm = np.linalg.norm(X_vec - X)\n",
    "\n",
    "        result += [first_iters, second_iters, first_time, second_time, first_norm, second_norm]\n",
    "    df = pd.DataFrame(data={\"n\": numbers,\n",
    "                            \"I warunek iteracje\": result[::6],\n",
    "                            \"II warunek iteracje\": result[1::6],\n",
    "                            \"I warunek czas [s]\": result[2::6],\n",
    "                            \"II warunek czas [s]\": result[3::6],\n",
    "                            \"I warunek norma\": result[4::6],\n",
    "                            \"II warunek norma\": result[5::6]})\n",
    "    return df"
   ]
  },
  {
   "cell_type": "markdown",
   "id": "bee33e3b",
   "metadata": {},
   "source": [
    "**epsilon 0.001**"
   ]
  },
  {
   "cell_type": "code",
   "execution_count": 29,
   "id": "62f071b5",
   "metadata": {
    "scrolled": false,
    "ExecuteTime": {
     "end_time": "2023-06-16T13:29:52.218957200Z",
     "start_time": "2023-06-16T13:29:52.108240Z"
    }
   },
   "outputs": [
    {
     "data": {
      "text/plain": "      n  I warunek iteracje  II warunek iteracje  I warunek czas [s]  \\\n0     3                  16                   18            0.000242   \n1     4                  22                   26            0.000165   \n2     5                  23                   28            0.000318   \n3     7                  24                   28            0.000207   \n4    10                  23                   27            0.000204   \n5    12                  23                   27            0.000186   \n6    15                  25                   29            0.000200   \n7    20                  23                   27            0.000193   \n8    30                  24                   28            0.000209   \n9    50                  24                   28            0.000219   \n10   70                  24                   28            0.000206   \n11  100                  24                   28            0.003186   \n12  150                  25                   28            0.004329   \n13  200                  25                   29            0.003673   \n14  300                  25                   29            0.004243   \n15  500                  26                   29            0.004762   \n\n    II warunek czas [s]  I warunek norma  II warunek norma  \n0              0.000343         0.000404          0.000072  \n1              0.000187         0.001744          0.000244  \n2              0.000224         0.000680          0.000055  \n3              0.000387         0.000512          0.000070  \n4              0.000243         0.001172          0.000167  \n5              0.000230         0.001174          0.000167  \n6              0.000247         0.000415          0.000060  \n7              0.000233         0.001236          0.000176  \n8              0.000248         0.000814          0.000116  \n9              0.000264         0.000900          0.000124  \n10             0.000270         0.000969          0.000131  \n11             0.008148         0.001052          0.000138  \n12             0.006265         0.000706          0.000152  \n13             0.007807         0.000767          0.000098  \n14             0.006711         0.000884          0.000110  \n15             0.009775         0.000633          0.000130  ",
      "text/html": "<div>\n<style scoped>\n    .dataframe tbody tr th:only-of-type {\n        vertical-align: middle;\n    }\n\n    .dataframe tbody tr th {\n        vertical-align: top;\n    }\n\n    .dataframe thead th {\n        text-align: right;\n    }\n</style>\n<table border=\"1\" class=\"dataframe\">\n  <thead>\n    <tr style=\"text-align: right;\">\n      <th></th>\n      <th>n</th>\n      <th>I warunek iteracje</th>\n      <th>II warunek iteracje</th>\n      <th>I warunek czas [s]</th>\n      <th>II warunek czas [s]</th>\n      <th>I warunek norma</th>\n      <th>II warunek norma</th>\n    </tr>\n  </thead>\n  <tbody>\n    <tr>\n      <th>0</th>\n      <td>3</td>\n      <td>16</td>\n      <td>18</td>\n      <td>0.000242</td>\n      <td>0.000343</td>\n      <td>0.000404</td>\n      <td>0.000072</td>\n    </tr>\n    <tr>\n      <th>1</th>\n      <td>4</td>\n      <td>22</td>\n      <td>26</td>\n      <td>0.000165</td>\n      <td>0.000187</td>\n      <td>0.001744</td>\n      <td>0.000244</td>\n    </tr>\n    <tr>\n      <th>2</th>\n      <td>5</td>\n      <td>23</td>\n      <td>28</td>\n      <td>0.000318</td>\n      <td>0.000224</td>\n      <td>0.000680</td>\n      <td>0.000055</td>\n    </tr>\n    <tr>\n      <th>3</th>\n      <td>7</td>\n      <td>24</td>\n      <td>28</td>\n      <td>0.000207</td>\n      <td>0.000387</td>\n      <td>0.000512</td>\n      <td>0.000070</td>\n    </tr>\n    <tr>\n      <th>4</th>\n      <td>10</td>\n      <td>23</td>\n      <td>27</td>\n      <td>0.000204</td>\n      <td>0.000243</td>\n      <td>0.001172</td>\n      <td>0.000167</td>\n    </tr>\n    <tr>\n      <th>5</th>\n      <td>12</td>\n      <td>23</td>\n      <td>27</td>\n      <td>0.000186</td>\n      <td>0.000230</td>\n      <td>0.001174</td>\n      <td>0.000167</td>\n    </tr>\n    <tr>\n      <th>6</th>\n      <td>15</td>\n      <td>25</td>\n      <td>29</td>\n      <td>0.000200</td>\n      <td>0.000247</td>\n      <td>0.000415</td>\n      <td>0.000060</td>\n    </tr>\n    <tr>\n      <th>7</th>\n      <td>20</td>\n      <td>23</td>\n      <td>27</td>\n      <td>0.000193</td>\n      <td>0.000233</td>\n      <td>0.001236</td>\n      <td>0.000176</td>\n    </tr>\n    <tr>\n      <th>8</th>\n      <td>30</td>\n      <td>24</td>\n      <td>28</td>\n      <td>0.000209</td>\n      <td>0.000248</td>\n      <td>0.000814</td>\n      <td>0.000116</td>\n    </tr>\n    <tr>\n      <th>9</th>\n      <td>50</td>\n      <td>24</td>\n      <td>28</td>\n      <td>0.000219</td>\n      <td>0.000264</td>\n      <td>0.000900</td>\n      <td>0.000124</td>\n    </tr>\n    <tr>\n      <th>10</th>\n      <td>70</td>\n      <td>24</td>\n      <td>28</td>\n      <td>0.000206</td>\n      <td>0.000270</td>\n      <td>0.000969</td>\n      <td>0.000131</td>\n    </tr>\n    <tr>\n      <th>11</th>\n      <td>100</td>\n      <td>24</td>\n      <td>28</td>\n      <td>0.003186</td>\n      <td>0.008148</td>\n      <td>0.001052</td>\n      <td>0.000138</td>\n    </tr>\n    <tr>\n      <th>12</th>\n      <td>150</td>\n      <td>25</td>\n      <td>28</td>\n      <td>0.004329</td>\n      <td>0.006265</td>\n      <td>0.000706</td>\n      <td>0.000152</td>\n    </tr>\n    <tr>\n      <th>13</th>\n      <td>200</td>\n      <td>25</td>\n      <td>29</td>\n      <td>0.003673</td>\n      <td>0.007807</td>\n      <td>0.000767</td>\n      <td>0.000098</td>\n    </tr>\n    <tr>\n      <th>14</th>\n      <td>300</td>\n      <td>25</td>\n      <td>29</td>\n      <td>0.004243</td>\n      <td>0.006711</td>\n      <td>0.000884</td>\n      <td>0.000110</td>\n    </tr>\n    <tr>\n      <th>15</th>\n      <td>500</td>\n      <td>26</td>\n      <td>29</td>\n      <td>0.004762</td>\n      <td>0.009775</td>\n      <td>0.000633</td>\n      <td>0.000130</td>\n    </tr>\n  </tbody>\n</table>\n</div>"
     },
     "execution_count": 29,
     "metadata": {},
     "output_type": "execute_result"
    }
   ],
   "source": [
    "numbers = [3, 4, 5, 7, 10, 12, 15, 20, 30, 50, 70, 100, 150, 200, 300, 500]\n",
    "epsilon = 0.001\n",
    "df_1 = exercise_1(numbers, epsilon, 8, 1.5, 2000)\n",
    "df_1"
   ]
  },
  {
   "cell_type": "markdown",
   "id": "b2c3acfd",
   "metadata": {},
   "source": [
    "**epsilon 0.0001**"
   ]
  },
  {
   "cell_type": "code",
   "execution_count": 30,
   "id": "b313965b",
   "metadata": {
    "ExecuteTime": {
     "end_time": "2023-06-16T13:29:52.345777400Z",
     "start_time": "2023-06-16T13:29:52.218957200Z"
    }
   },
   "outputs": [
    {
     "data": {
      "text/plain": "      n  I warunek iteracje  II warunek iteracje  I warunek czas [s]  \\\n0     3                  19                   21            0.000592   \n1     4                  26                   31            0.000177   \n2     5                  28                   32            0.000113   \n3     7                  29                   33            0.000228   \n4    10                  27                   31            0.000276   \n5    12                  27                   31            0.000113   \n6    15                  29                   34            0.000116   \n7    20                  28                   32            0.000117   \n8    30                  28                   32            0.000133   \n9    50                  28                   32            0.000137   \n10   70                  29                   32            0.000175   \n11  100                  29                   33            0.003128   \n12  150                  29                   33            0.003309   \n13  200                  29                   33            0.005228   \n14  300                  29                   33            0.005114   \n15  500                  30                   34            0.006778   \n\n    II warunek czas [s]  I warunek norma  II warunek norma  \n0              0.000345         0.000030          0.000005  \n1              0.000167         0.000244          0.000021  \n2              0.000188         0.000055          0.000007  \n3              0.000277         0.000043          0.000006  \n4              0.000194         0.000167          0.000024  \n5              0.000159         0.000167          0.000024  \n6              0.000159         0.000060          0.000005  \n7              0.000152         0.000109          0.000016  \n8              0.000164         0.000116          0.000017  \n9              0.000168         0.000124          0.000018  \n10             0.000192         0.000080          0.000018  \n11             0.006299         0.000084          0.000012  \n12             0.006051         0.000092          0.000013  \n13             0.007484         0.000098          0.000013  \n14             0.009179         0.000110          0.000014  \n15             0.011868         0.000077          0.000010  ",
      "text/html": "<div>\n<style scoped>\n    .dataframe tbody tr th:only-of-type {\n        vertical-align: middle;\n    }\n\n    .dataframe tbody tr th {\n        vertical-align: top;\n    }\n\n    .dataframe thead th {\n        text-align: right;\n    }\n</style>\n<table border=\"1\" class=\"dataframe\">\n  <thead>\n    <tr style=\"text-align: right;\">\n      <th></th>\n      <th>n</th>\n      <th>I warunek iteracje</th>\n      <th>II warunek iteracje</th>\n      <th>I warunek czas [s]</th>\n      <th>II warunek czas [s]</th>\n      <th>I warunek norma</th>\n      <th>II warunek norma</th>\n    </tr>\n  </thead>\n  <tbody>\n    <tr>\n      <th>0</th>\n      <td>3</td>\n      <td>19</td>\n      <td>21</td>\n      <td>0.000592</td>\n      <td>0.000345</td>\n      <td>0.000030</td>\n      <td>0.000005</td>\n    </tr>\n    <tr>\n      <th>1</th>\n      <td>4</td>\n      <td>26</td>\n      <td>31</td>\n      <td>0.000177</td>\n      <td>0.000167</td>\n      <td>0.000244</td>\n      <td>0.000021</td>\n    </tr>\n    <tr>\n      <th>2</th>\n      <td>5</td>\n      <td>28</td>\n      <td>32</td>\n      <td>0.000113</td>\n      <td>0.000188</td>\n      <td>0.000055</td>\n      <td>0.000007</td>\n    </tr>\n    <tr>\n      <th>3</th>\n      <td>7</td>\n      <td>29</td>\n      <td>33</td>\n      <td>0.000228</td>\n      <td>0.000277</td>\n      <td>0.000043</td>\n      <td>0.000006</td>\n    </tr>\n    <tr>\n      <th>4</th>\n      <td>10</td>\n      <td>27</td>\n      <td>31</td>\n      <td>0.000276</td>\n      <td>0.000194</td>\n      <td>0.000167</td>\n      <td>0.000024</td>\n    </tr>\n    <tr>\n      <th>5</th>\n      <td>12</td>\n      <td>27</td>\n      <td>31</td>\n      <td>0.000113</td>\n      <td>0.000159</td>\n      <td>0.000167</td>\n      <td>0.000024</td>\n    </tr>\n    <tr>\n      <th>6</th>\n      <td>15</td>\n      <td>29</td>\n      <td>34</td>\n      <td>0.000116</td>\n      <td>0.000159</td>\n      <td>0.000060</td>\n      <td>0.000005</td>\n    </tr>\n    <tr>\n      <th>7</th>\n      <td>20</td>\n      <td>28</td>\n      <td>32</td>\n      <td>0.000117</td>\n      <td>0.000152</td>\n      <td>0.000109</td>\n      <td>0.000016</td>\n    </tr>\n    <tr>\n      <th>8</th>\n      <td>30</td>\n      <td>28</td>\n      <td>32</td>\n      <td>0.000133</td>\n      <td>0.000164</td>\n      <td>0.000116</td>\n      <td>0.000017</td>\n    </tr>\n    <tr>\n      <th>9</th>\n      <td>50</td>\n      <td>28</td>\n      <td>32</td>\n      <td>0.000137</td>\n      <td>0.000168</td>\n      <td>0.000124</td>\n      <td>0.000018</td>\n    </tr>\n    <tr>\n      <th>10</th>\n      <td>70</td>\n      <td>29</td>\n      <td>32</td>\n      <td>0.000175</td>\n      <td>0.000192</td>\n      <td>0.000080</td>\n      <td>0.000018</td>\n    </tr>\n    <tr>\n      <th>11</th>\n      <td>100</td>\n      <td>29</td>\n      <td>33</td>\n      <td>0.003128</td>\n      <td>0.006299</td>\n      <td>0.000084</td>\n      <td>0.000012</td>\n    </tr>\n    <tr>\n      <th>12</th>\n      <td>150</td>\n      <td>29</td>\n      <td>33</td>\n      <td>0.003309</td>\n      <td>0.006051</td>\n      <td>0.000092</td>\n      <td>0.000013</td>\n    </tr>\n    <tr>\n      <th>13</th>\n      <td>200</td>\n      <td>29</td>\n      <td>33</td>\n      <td>0.005228</td>\n      <td>0.007484</td>\n      <td>0.000098</td>\n      <td>0.000013</td>\n    </tr>\n    <tr>\n      <th>14</th>\n      <td>300</td>\n      <td>29</td>\n      <td>33</td>\n      <td>0.005114</td>\n      <td>0.009179</td>\n      <td>0.000110</td>\n      <td>0.000014</td>\n    </tr>\n    <tr>\n      <th>15</th>\n      <td>500</td>\n      <td>30</td>\n      <td>34</td>\n      <td>0.006778</td>\n      <td>0.011868</td>\n      <td>0.000077</td>\n      <td>0.000010</td>\n    </tr>\n  </tbody>\n</table>\n</div>"
     },
     "execution_count": 30,
     "metadata": {},
     "output_type": "execute_result"
    }
   ],
   "source": [
    "numbers = [3, 4, 5, 7, 10, 12, 15, 20, 30, 50, 70, 100, 150, 200, 300, 500]\n",
    "epsilon = 0.0001\n",
    "df_1 = exercise_1(numbers, epsilon, 8, 1.5, 2000)\n",
    "df_1"
   ]
  },
  {
   "cell_type": "markdown",
   "id": "4c3d7573",
   "metadata": {},
   "source": [
    "**epsilon 0.00001**"
   ]
  },
  {
   "cell_type": "code",
   "execution_count": 31,
   "id": "fb1ecb16",
   "metadata": {
    "ExecuteTime": {
     "end_time": "2023-06-16T13:29:52.500507500Z",
     "start_time": "2023-06-16T13:29:52.346778600Z"
    }
   },
   "outputs": [
    {
     "data": {
      "text/plain": "      n  I warunek iteracje  II warunek iteracje  I warunek czas [s]  \\\n0     3                  21                   24            0.000413   \n1     4                  31                   35            0.000469   \n2     5                  33                   37            0.000260   \n3     7                  33                   38            0.000232   \n4    10                  32                   36            0.000278   \n5    12                  32                   36            0.000200   \n6    15                  34                   39            0.000273   \n7    20                  32                   36            0.000177   \n8    30                  33                   37            0.000203   \n9    50                  33                   37            0.000335   \n10   70                  33                   37            0.000238   \n11  100                  33                   37            0.003728   \n12  150                  33                   37            0.004415   \n13  200                  33                   37            0.005870   \n14  300                  34                   38            0.006068   \n15  500                  34                   38            0.007873   \n\n    II warunek czas [s]  I warunek norma  II warunek norma  \n0              0.000353         0.000005      4.104262e-07  \n1              0.000311         0.000021      2.914368e-06  \n2              0.000322         0.000005      6.241936e-07  \n3              0.000329         0.000006      5.284017e-07  \n4              0.000359         0.000015      2.170686e-06  \n5              0.000327         0.000015      2.204506e-06  \n6              0.000321         0.000005      4.973954e-07  \n7              0.000191         0.000016      2.347828e-06  \n8              0.000209         0.000010      1.538193e-06  \n9              0.000207         0.000011      1.611494e-06  \n10             0.000234         0.000011      1.660146e-06  \n11             0.010072         0.000012      1.697217e-06  \n12             0.008671         0.000013      1.793475e-06  \n13             0.012339         0.000013      1.840756e-06  \n14             0.008617         0.000009      1.197863e-06  \n15             0.012729         0.000010      1.309232e-06  ",
      "text/html": "<div>\n<style scoped>\n    .dataframe tbody tr th:only-of-type {\n        vertical-align: middle;\n    }\n\n    .dataframe tbody tr th {\n        vertical-align: top;\n    }\n\n    .dataframe thead th {\n        text-align: right;\n    }\n</style>\n<table border=\"1\" class=\"dataframe\">\n  <thead>\n    <tr style=\"text-align: right;\">\n      <th></th>\n      <th>n</th>\n      <th>I warunek iteracje</th>\n      <th>II warunek iteracje</th>\n      <th>I warunek czas [s]</th>\n      <th>II warunek czas [s]</th>\n      <th>I warunek norma</th>\n      <th>II warunek norma</th>\n    </tr>\n  </thead>\n  <tbody>\n    <tr>\n      <th>0</th>\n      <td>3</td>\n      <td>21</td>\n      <td>24</td>\n      <td>0.000413</td>\n      <td>0.000353</td>\n      <td>0.000005</td>\n      <td>4.104262e-07</td>\n    </tr>\n    <tr>\n      <th>1</th>\n      <td>4</td>\n      <td>31</td>\n      <td>35</td>\n      <td>0.000469</td>\n      <td>0.000311</td>\n      <td>0.000021</td>\n      <td>2.914368e-06</td>\n    </tr>\n    <tr>\n      <th>2</th>\n      <td>5</td>\n      <td>33</td>\n      <td>37</td>\n      <td>0.000260</td>\n      <td>0.000322</td>\n      <td>0.000005</td>\n      <td>6.241936e-07</td>\n    </tr>\n    <tr>\n      <th>3</th>\n      <td>7</td>\n      <td>33</td>\n      <td>38</td>\n      <td>0.000232</td>\n      <td>0.000329</td>\n      <td>0.000006</td>\n      <td>5.284017e-07</td>\n    </tr>\n    <tr>\n      <th>4</th>\n      <td>10</td>\n      <td>32</td>\n      <td>36</td>\n      <td>0.000278</td>\n      <td>0.000359</td>\n      <td>0.000015</td>\n      <td>2.170686e-06</td>\n    </tr>\n    <tr>\n      <th>5</th>\n      <td>12</td>\n      <td>32</td>\n      <td>36</td>\n      <td>0.000200</td>\n      <td>0.000327</td>\n      <td>0.000015</td>\n      <td>2.204506e-06</td>\n    </tr>\n    <tr>\n      <th>6</th>\n      <td>15</td>\n      <td>34</td>\n      <td>39</td>\n      <td>0.000273</td>\n      <td>0.000321</td>\n      <td>0.000005</td>\n      <td>4.973954e-07</td>\n    </tr>\n    <tr>\n      <th>7</th>\n      <td>20</td>\n      <td>32</td>\n      <td>36</td>\n      <td>0.000177</td>\n      <td>0.000191</td>\n      <td>0.000016</td>\n      <td>2.347828e-06</td>\n    </tr>\n    <tr>\n      <th>8</th>\n      <td>30</td>\n      <td>33</td>\n      <td>37</td>\n      <td>0.000203</td>\n      <td>0.000209</td>\n      <td>0.000010</td>\n      <td>1.538193e-06</td>\n    </tr>\n    <tr>\n      <th>9</th>\n      <td>50</td>\n      <td>33</td>\n      <td>37</td>\n      <td>0.000335</td>\n      <td>0.000207</td>\n      <td>0.000011</td>\n      <td>1.611494e-06</td>\n    </tr>\n    <tr>\n      <th>10</th>\n      <td>70</td>\n      <td>33</td>\n      <td>37</td>\n      <td>0.000238</td>\n      <td>0.000234</td>\n      <td>0.000011</td>\n      <td>1.660146e-06</td>\n    </tr>\n    <tr>\n      <th>11</th>\n      <td>100</td>\n      <td>33</td>\n      <td>37</td>\n      <td>0.003728</td>\n      <td>0.010072</td>\n      <td>0.000012</td>\n      <td>1.697217e-06</td>\n    </tr>\n    <tr>\n      <th>12</th>\n      <td>150</td>\n      <td>33</td>\n      <td>37</td>\n      <td>0.004415</td>\n      <td>0.008671</td>\n      <td>0.000013</td>\n      <td>1.793475e-06</td>\n    </tr>\n    <tr>\n      <th>13</th>\n      <td>200</td>\n      <td>33</td>\n      <td>37</td>\n      <td>0.005870</td>\n      <td>0.012339</td>\n      <td>0.000013</td>\n      <td>1.840756e-06</td>\n    </tr>\n    <tr>\n      <th>14</th>\n      <td>300</td>\n      <td>34</td>\n      <td>38</td>\n      <td>0.006068</td>\n      <td>0.008617</td>\n      <td>0.000009</td>\n      <td>1.197863e-06</td>\n    </tr>\n    <tr>\n      <th>15</th>\n      <td>500</td>\n      <td>34</td>\n      <td>38</td>\n      <td>0.007873</td>\n      <td>0.012729</td>\n      <td>0.000010</td>\n      <td>1.309232e-06</td>\n    </tr>\n  </tbody>\n</table>\n</div>"
     },
     "execution_count": 31,
     "metadata": {},
     "output_type": "execute_result"
    }
   ],
   "source": [
    "numbers = [3, 4, 5, 7, 10, 12, 15, 20, 30, 50, 70, 100, 150, 200, 300, 500]\n",
    "epsilon = 0.00001\n",
    "df_1 = exercise_1(numbers, epsilon, 8, 1.5, 2000)\n",
    "df_1"
   ]
  },
  {
   "cell_type": "code",
   "execution_count": 32,
   "id": "9de286bf",
   "metadata": {
    "ExecuteTime": {
     "end_time": "2023-06-16T13:29:52.531875900Z",
     "start_time": "2023-06-16T13:29:52.500507500Z"
    }
   },
   "outputs": [],
   "source": [
    "def spectral_radius(A):\n",
    "    D = np.diag(A)\n",
    "    R = A - np.diagflat(D)\n",
    "    S = R / D\n",
    "    eigvals = np.linalg.eigvals(S)\n",
    "    return max(abs(i) for i in eigvals)"
   ]
  },
  {
   "cell_type": "code",
   "execution_count": 33,
   "id": "9a4486b8",
   "metadata": {
    "ExecuteTime": {
     "end_time": "2023-06-16T13:29:52.534875500Z",
     "start_time": "2023-06-16T13:29:52.501507500Z"
    }
   },
   "outputs": [],
   "source": [
    "def exercise_2(numbers, k, m):\n",
    "    result = []\n",
    "    for n in numbers:\n",
    "        A = np.array([[k if i == j else m / (n - i - j + 0.5) for j in range(n)] for i in range(n)], dtype=np.float64)\n",
    "        spec_rad = spectral_radius(A)\n",
    "        condition = True\n",
    "        if spec_rad >= 1:\n",
    "            condition = False\n",
    "        result += [spec_rad, condition]\n",
    "    df = pd.DataFrame(data={\"n\": numbers,\n",
    "                            \"promień spektralny\": result[::2],\n",
    "                            \"założenie\": result[1::2]})\n",
    "    return df"
   ]
  },
  {
   "cell_type": "code",
   "execution_count": 34,
   "id": "f10f8095",
   "metadata": {
    "ExecuteTime": {
     "end_time": "2023-06-16T13:29:52.898979300Z",
     "start_time": "2023-06-16T13:29:52.505849500Z"
    }
   },
   "outputs": [
    {
     "data": {
      "text/plain": "      n  promień spektralny  założenie\n0     3            0.422512       True\n1     4            0.611499       True\n2     5            0.613154       True\n3     7            0.617553       True\n4    10            0.619754       True\n5    12            0.620731       True\n6    15            0.622103       True\n7    20            0.622700       True\n8    30            0.623676       True\n9    50            0.624439       True\n10   70            0.624758       True\n11  100            0.624993       True\n12  150            0.625173       True\n13  200            0.625263       True\n14  300            0.625352       True\n15  500            0.625423       True",
      "text/html": "<div>\n<style scoped>\n    .dataframe tbody tr th:only-of-type {\n        vertical-align: middle;\n    }\n\n    .dataframe tbody tr th {\n        vertical-align: top;\n    }\n\n    .dataframe thead th {\n        text-align: right;\n    }\n</style>\n<table border=\"1\" class=\"dataframe\">\n  <thead>\n    <tr style=\"text-align: right;\">\n      <th></th>\n      <th>n</th>\n      <th>promień spektralny</th>\n      <th>założenie</th>\n    </tr>\n  </thead>\n  <tbody>\n    <tr>\n      <th>0</th>\n      <td>3</td>\n      <td>0.422512</td>\n      <td>True</td>\n    </tr>\n    <tr>\n      <th>1</th>\n      <td>4</td>\n      <td>0.611499</td>\n      <td>True</td>\n    </tr>\n    <tr>\n      <th>2</th>\n      <td>5</td>\n      <td>0.613154</td>\n      <td>True</td>\n    </tr>\n    <tr>\n      <th>3</th>\n      <td>7</td>\n      <td>0.617553</td>\n      <td>True</td>\n    </tr>\n    <tr>\n      <th>4</th>\n      <td>10</td>\n      <td>0.619754</td>\n      <td>True</td>\n    </tr>\n    <tr>\n      <th>5</th>\n      <td>12</td>\n      <td>0.620731</td>\n      <td>True</td>\n    </tr>\n    <tr>\n      <th>6</th>\n      <td>15</td>\n      <td>0.622103</td>\n      <td>True</td>\n    </tr>\n    <tr>\n      <th>7</th>\n      <td>20</td>\n      <td>0.622700</td>\n      <td>True</td>\n    </tr>\n    <tr>\n      <th>8</th>\n      <td>30</td>\n      <td>0.623676</td>\n      <td>True</td>\n    </tr>\n    <tr>\n      <th>9</th>\n      <td>50</td>\n      <td>0.624439</td>\n      <td>True</td>\n    </tr>\n    <tr>\n      <th>10</th>\n      <td>70</td>\n      <td>0.624758</td>\n      <td>True</td>\n    </tr>\n    <tr>\n      <th>11</th>\n      <td>100</td>\n      <td>0.624993</td>\n      <td>True</td>\n    </tr>\n    <tr>\n      <th>12</th>\n      <td>150</td>\n      <td>0.625173</td>\n      <td>True</td>\n    </tr>\n    <tr>\n      <th>13</th>\n      <td>200</td>\n      <td>0.625263</td>\n      <td>True</td>\n    </tr>\n    <tr>\n      <th>14</th>\n      <td>300</td>\n      <td>0.625352</td>\n      <td>True</td>\n    </tr>\n    <tr>\n      <th>15</th>\n      <td>500</td>\n      <td>0.625423</td>\n      <td>True</td>\n    </tr>\n  </tbody>\n</table>\n</div>"
     },
     "execution_count": 34,
     "metadata": {},
     "output_type": "execute_result"
    }
   ],
   "source": [
    "numbers = [3, 4, 5, 7, 10, 12, 15, 20, 30, 50, 70, 100, 150, 200, 300, 500]\n",
    "df_2 = exercise_2(numbers, 8, 1.5)\n",
    "df_2"
   ]
  }
 ],
 "metadata": {
  "kernelspec": {
   "display_name": "Python 3 (ipykernel)",
   "language": "python",
   "name": "python3"
  },
  "language_info": {
   "codemirror_mode": {
    "name": "ipython",
    "version": 3
   },
   "file_extension": ".py",
   "mimetype": "text/x-python",
   "name": "python",
   "nbconvert_exporter": "python",
   "pygments_lexer": "ipython3",
   "version": "3.11.2"
  }
 },
 "nbformat": 4,
 "nbformat_minor": 5
}
